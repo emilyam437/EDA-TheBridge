{
 "cells": [
  {
   "cell_type": "code",
   "execution_count": 1,
   "id": "db0e4820",
   "metadata": {},
   "outputs": [],
   "source": [
    "# guardar las tablas de database en CSVs en la carpeta de src/data\n",
    "\n",
    "import sqlite3\n",
    "import pandas as pd\n",
    "\n",
    "conn = sqlite3.connect('Spain_db') \n",
    "c = conn.cursor()"
   ]
  },
  {
   "cell_type": "code",
   "execution_count": 2,
   "id": "b46ad28a",
   "metadata": {},
   "outputs": [
    {
     "data": {
      "text/html": [
       "<div>\n",
       "<style scoped>\n",
       "    .dataframe tbody tr th:only-of-type {\n",
       "        vertical-align: middle;\n",
       "    }\n",
       "\n",
       "    .dataframe tbody tr th {\n",
       "        vertical-align: top;\n",
       "    }\n",
       "\n",
       "    .dataframe thead th {\n",
       "        text-align: right;\n",
       "    }\n",
       "</style>\n",
       "<table border=\"1\" class=\"dataframe\">\n",
       "  <thead>\n",
       "    <tr style=\"text-align: right;\">\n",
       "      <th></th>\n",
       "      <th>name</th>\n",
       "    </tr>\n",
       "  </thead>\n",
       "  <tbody>\n",
       "    <tr>\n",
       "      <th>0</th>\n",
       "      <td>weather_aqi_provinces</td>\n",
       "    </tr>\n",
       "    <tr>\n",
       "      <th>1</th>\n",
       "      <td>most_polluted_cities</td>\n",
       "    </tr>\n",
       "    <tr>\n",
       "      <th>2</th>\n",
       "      <td>madrid_neighborhood_aqi</td>\n",
       "    </tr>\n",
       "    <tr>\n",
       "      <th>3</th>\n",
       "      <td>life_expectancy</td>\n",
       "    </tr>\n",
       "    <tr>\n",
       "      <th>4</th>\n",
       "      <td>coches</td>\n",
       "    </tr>\n",
       "    <tr>\n",
       "      <th>5</th>\n",
       "      <td>population_density</td>\n",
       "    </tr>\n",
       "    <tr>\n",
       "      <th>6</th>\n",
       "      <td>trees</td>\n",
       "    </tr>\n",
       "    <tr>\n",
       "      <th>7</th>\n",
       "      <td>old_cars</td>\n",
       "    </tr>\n",
       "    <tr>\n",
       "      <th>8</th>\n",
       "      <td>empleo</td>\n",
       "    </tr>\n",
       "    <tr>\n",
       "      <th>9</th>\n",
       "      <td>desempleo_2021</td>\n",
       "    </tr>\n",
       "    <tr>\n",
       "      <th>10</th>\n",
       "      <td>coches_electricos</td>\n",
       "    </tr>\n",
       "    <tr>\n",
       "      <th>11</th>\n",
       "      <td>coches_charging_stations</td>\n",
       "    </tr>\n",
       "    <tr>\n",
       "      <th>12</th>\n",
       "      <td>latitudes_longitudes</td>\n",
       "    </tr>\n",
       "    <tr>\n",
       "      <th>13</th>\n",
       "      <td>Everything</td>\n",
       "    </tr>\n",
       "  </tbody>\n",
       "</table>\n",
       "</div>"
      ],
      "text/plain": [
       "                        name\n",
       "0      weather_aqi_provinces\n",
       "1       most_polluted_cities\n",
       "2    madrid_neighborhood_aqi\n",
       "3            life_expectancy\n",
       "4                     coches\n",
       "5         population_density\n",
       "6                      trees\n",
       "7                   old_cars\n",
       "8                     empleo\n",
       "9             desempleo_2021\n",
       "10         coches_electricos\n",
       "11  coches_charging_stations\n",
       "12      latitudes_longitudes\n",
       "13                Everything"
      ]
     },
     "execution_count": 2,
     "metadata": {},
     "output_type": "execute_result"
    }
   ],
   "source": [
    "tables = pd.read_sql(\"\"\"SELECT \n",
    "    name\n",
    "FROM \n",
    "    sqlite_schema\n",
    "WHERE \n",
    "    type ='table'\"\"\", conn)\n",
    "tables"
   ]
  },
  {
   "cell_type": "code",
   "execution_count": 4,
   "id": "8bcc24a9",
   "metadata": {},
   "outputs": [
    {
     "name": "stdout",
     "output_type": "stream",
     "text": [
      "weather_aqi_provinces\n",
      "most_polluted_cities\n",
      "madrid_neighborhood_aqi\n",
      "life_expectancy\n",
      "coches\n",
      "population_density\n",
      "trees\n",
      "old_cars\n",
      "empleo\n",
      "desempleo_2021\n",
      "coches_electricos\n",
      "coches_charging_stations\n",
      "latitudes_longitudes\n",
      "Everything\n"
     ]
    }
   ],
   "source": [
    "for name in tables['name']:\n",
    "    print(name)"
   ]
  },
  {
   "cell_type": "code",
   "execution_count": 9,
   "id": "57fb2b84",
   "metadata": {},
   "outputs": [],
   "source": [
    "for name in tables['name']:\n",
    "    pd.read_sql('''\n",
    "select * from weather_aqi_provinces\n",
    "''', conn).to_csv(f'src/data/{name}.csv', index=False)"
   ]
  },
  {
   "cell_type": "code",
   "execution_count": 10,
   "id": "e8a90499",
   "metadata": {},
   "outputs": [],
   "source": [
    "conn.close()"
   ]
  }
 ],
 "metadata": {
  "kernelspec": {
   "display_name": "Python 3 (ipykernel)",
   "language": "python",
   "name": "python3"
  },
  "language_info": {
   "codemirror_mode": {
    "name": "ipython",
    "version": 3
   },
   "file_extension": ".py",
   "mimetype": "text/x-python",
   "name": "python",
   "nbconvert_exporter": "python",
   "pygments_lexer": "ipython3",
   "version": "3.7.13"
  }
 },
 "nbformat": 4,
 "nbformat_minor": 5
}
